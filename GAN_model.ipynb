{
 "cells": [
  {
   "metadata": {},
   "cell_type": "markdown",
   "source": "# Import libs",
   "id": "f2ae5bf3181fabcd"
  },
  {
   "cell_type": "code",
   "id": "initial_id",
   "metadata": {
    "collapsed": true,
    "ExecuteTime": {
     "end_time": "2024-05-09T12:15:38.710732Z",
     "start_time": "2024-05-09T12:15:38.690977Z"
    }
   },
   "source": [
    "import torch\n",
    "from torch import nn, optim\n",
    "\n",
    "import math\n",
    "import matplotlib.pyplot as plt\n",
    "\n",
    "torch.manual_seed(111)"
   ],
   "outputs": [
    {
     "data": {
      "text/plain": [
       "<torch._C.Generator at 0x2263291d610>"
      ]
     },
     "execution_count": 48,
     "metadata": {},
     "output_type": "execute_result"
    }
   ],
   "execution_count": 48
  },
  {
   "metadata": {},
   "cell_type": "markdown",
   "source": "# Preparing the Training Data",
   "id": "503efa18017e1cf3"
  },
  {
   "metadata": {
    "ExecuteTime": {
     "end_time": "2024-05-09T12:15:38.801417Z",
     "start_time": "2024-05-09T12:15:38.782883Z"
    }
   },
   "cell_type": "code",
   "source": [
    "train_data_length = 1024\n",
    "train_data = torch.zeros((train_data_length, 2))\n",
    "train_data[:, 0] = 2 * math.pi * torch.rand(train_data_length)\n",
    "train_data[:, 1] = torch.sin(train_data[:, 0])\n",
    "train_labels = torch.zeros(train_data_length)\n",
    "train_set = [\n",
    "    (train_data[i], train_labels[i]) for i in range(train_data_length)\n",
    "]"
   ],
   "id": "97bad6eb083c9aa3",
   "outputs": [],
   "execution_count": 49
  },
  {
   "metadata": {
    "ExecuteTime": {
     "end_time": "2024-05-09T12:15:39.120972Z",
     "start_time": "2024-05-09T12:15:38.808055Z"
    }
   },
   "cell_type": "code",
   "source": "plt.plot(train_data[:, 0], train_data[:, 1], '.')",
   "id": "adb764f8fd72d70c",
   "outputs": [
    {
     "data": {
      "text/plain": [
       "[<matplotlib.lines.Line2D at 0x2263e64b9d0>]"
      ]
     },
     "execution_count": 50,
     "metadata": {},
     "output_type": "execute_result"
    },
    {
     "data": {
      "text/plain": [
       "<Figure size 640x480 with 1 Axes>"
      ],
      "image/png": "[encoded data removed]"
     },
     "metadata": {},
     "output_type": "display_data"
    }
   ],
   "execution_count": 50
  },
  {
   "metadata": {},
   "cell_type": "markdown",
   "source": "# Create data loader",
   "id": "47a53cbc31f8c3fe"
  },
  {
   "metadata": {
    "ExecuteTime": {
     "end_time": "2024-05-09T12:15:39.137131Z",
     "start_time": "2024-05-09T12:15:39.124010Z"
    }
   },
   "cell_type": "code",
   "source": [
    "batch_size = 32\n",
    "train_loader = torch.utils.data.DataLoader(\n",
    "    train_set, batch_size=batch_size, shuffle=True\n",
    ")"
   ],
   "id": "186f4c9b939b8767",
   "outputs": [],
   "execution_count": 51
  },
  {
   "metadata": {},
   "cell_type": "markdown",
   "source": " # Implementing the Discriminator",
   "id": "c94573949bd5027f"
  },
  {
   "metadata": {
    "ExecuteTime": {
     "end_time": "2024-05-09T12:15:39.151465Z",
     "start_time": "2024-05-09T12:15:39.139666Z"
    }
   },
   "cell_type": "code",
   "source": [
    "class Discriminator(nn.Module):\n",
    "    def __init__(self):\n",
    "        super().__init__()\n",
    "        self.model = nn.Sequential(\n",
    "            nn.Linear(2, 256),\n",
    "            nn.ReLU(),\n",
    "            nn.Dropout(0.3),\n",
    "            nn.Linear(256, 128),\n",
    "            nn.ReLU(),\n",
    "            nn.Dropout(0.3),\n",
    "            nn.Linear(128, 64),\n",
    "            nn.ReLU(),\n",
    "            nn.Dropout(0.3),\n",
    "            nn.Linear(64, 1),\n",
    "            nn.Sigmoid()\n",
    "        )\n",
    "        \n",
    "    def forward(self, x):\n",
    "        output = self.model(x)\n",
    "        return output\n",
    "    \n",
    "discriminator = Discriminator()"
   ],
   "id": "28739dadf616da83",
   "outputs": [],
   "execution_count": 52
  },
  {
   "metadata": {},
   "cell_type": "markdown",
   "source": "# Implementing the Generator    ",
   "id": "192e751158395b05"
  },
  {
   "metadata": {
    "ExecuteTime": {
     "end_time": "2024-05-09T12:15:39.163828Z",
     "start_time": "2024-05-09T12:15:39.151465Z"
    }
   },
   "cell_type": "code",
   "source": [
    "class Generator(nn.Module):\n",
    "    def __init__(self):\n",
    "        super().__init__()\n",
    "        self.model = nn.Sequential(\n",
    "            nn.Linear(2, 16),\n",
    "            nn.ReLU(),\n",
    "            nn.Linear(16, 32),\n",
    "            nn.ReLU(),\n",
    "            nn.Linear(32, 2),\n",
    "        )\n",
    "        \n",
    "    def forward(self, x):\n",
    "        output = self.model(x)\n",
    "        return output\n",
    "    \n",
    "generator = Generator()"
   ],
   "id": "b9444d06012a2c60",
   "outputs": [],
   "execution_count": 53
  },
  {
   "metadata": {},
   "cell_type": "markdown",
   "source": "# Training the Models",
   "id": "c2c44d3dd69c8268"
  },
  {
   "metadata": {
    "ExecuteTime": {
     "end_time": "2024-05-09T12:15:39.171064Z",
     "start_time": "2024-05-09T12:15:39.163828Z"
    }
   },
   "cell_type": "code",
   "source": [
    "# Define some variable\n",
    "lr = 0.001\n",
    "num_epochs = 300\n",
    "loss_function = nn.BCELoss()"
   ],
   "id": "e234b7d762e884c9",
   "outputs": [],
   "execution_count": 54
  },
  {
   "metadata": {
    "ExecuteTime": {
     "end_time": "2024-05-09T12:15:39.181363Z",
     "start_time": "2024-05-09T12:15:39.171064Z"
    }
   },
   "cell_type": "code",
   "source": [
    "# Define optimizer for training model\n",
    "optimizer_discriminator = torch.optim.Adam(discriminator.parameters(), lr=lr)\n",
    "optimizer_generator = torch.optim.Adam(generator.parameters(), lr=lr)"
   ],
   "id": "d531bcb508d17b15",
   "outputs": [],
   "execution_count": 55
  },
  {
   "metadata": {
    "ExecuteTime": {
     "end_time": "2024-05-09T12:17:47.231044Z",
     "start_time": "2024-05-09T12:15:39.181363Z"
    }
   },
   "cell_type": "code",
   "source": [
    "for epoch in range(num_epochs):\n",
    "    for n, (real_samples, _) in enumerate(train_loader):\n",
    "        \n",
    "        # Data for training the discriminator\n",
    "        real_samples_labels = torch.ones((batch_size, 1))\n",
    "        latent_space_samples = torch.randn((batch_size, 2))\n",
    "        generated_samples = generator(latent_space_samples)\n",
    "        generated_samples_labels = torch.zeros((batch_size, 1))\n",
    "        all_samples = torch.cat((real_samples, generated_samples))\n",
    "        all_samples_labels = torch.cat((real_samples_labels, generated_samples_labels))\n",
    "        \n",
    "        # Training the discriminator\n",
    "        discriminator.zero_grad()\n",
    "        output_discriminator = discriminator(all_samples)\n",
    "        loss_discriminator = loss_function(\n",
    "            output_discriminator, all_samples_labels)\n",
    "        loss_discriminator.backward()\n",
    "        optimizer_discriminator.step()\n",
    "        \n",
    "        # Data for training the generator\n",
    "        latent_space_samples = torch.randn((batch_size, 2))\n",
    "        \n",
    "        # Training the generator\n",
    "        generator.zero_grad()\n",
    "        generated_samples = generator(latent_space_samples)\n",
    "        output_discriminator_generated = discriminator(generated_samples)\n",
    "        loss_generator = loss_function(\n",
    "            output_discriminator_generated, real_samples_labels\n",
    "        )\n",
    "        loss_generator.backward()\n",
    "        optimizer_generator.step()\n",
    "        \n",
    "        # Show loss\n",
    "        if epoch % 10 == 0 and n == batch_size - 1:\n",
    "            print(f\"Epoch: {epoch}, Loss D.: {loss_discriminator}\")\n",
    "            print(f\"Epoch: {epoch}, Loss G.: {loss_generator}\")\n",
    "        "
   ],
   "id": "e50c201780c9daff",
   "outputs": [
    {
     "name": "stdout",
     "output_type": "stream",
     "text": [
      "Epoch: 0, Loss D.: 0.21308742463588715\n",
      "Epoch: 0, Loss G.: 1.7989581823349\n",
      "Epoch: 10, Loss D.: 0.6099680662155151\n",
      "Epoch: 10, Loss G.: 0.9077385067939758\n",
      "Epoch: 20, Loss D.: 0.620063066482544\n",
      "Epoch: 20, Loss G.: 0.9532092809677124\n",
      "Epoch: 30, Loss D.: 0.6283488273620605\n",
      "Epoch: 30, Loss G.: 0.9910141229629517\n",
      "Epoch: 40, Loss D.: 0.6770229935646057\n",
      "Epoch: 40, Loss G.: 0.6435416340827942\n",
      "Epoch: 50, Loss D.: 0.6597822308540344\n",
      "Epoch: 50, Loss G.: 0.8030276894569397\n",
      "Epoch: 60, Loss D.: 0.7011778354644775\n",
      "Epoch: 60, Loss G.: 0.6873208284378052\n",
      "Epoch: 70, Loss D.: 0.6248222589492798\n",
      "Epoch: 70, Loss G.: 0.8231405019760132\n",
      "Epoch: 80, Loss D.: 0.6872455477714539\n",
      "Epoch: 80, Loss G.: 0.8475332260131836\n",
      "Epoch: 90, Loss D.: 0.6637624502182007\n",
      "Epoch: 90, Loss G.: 0.6601176857948303\n",
      "Epoch: 100, Loss D.: 0.6075984835624695\n",
      "Epoch: 100, Loss G.: 0.7509164810180664\n",
      "Epoch: 110, Loss D.: 0.6317901015281677\n",
      "Epoch: 110, Loss G.: 0.9446561336517334\n",
      "Epoch: 120, Loss D.: 0.6777792572975159\n",
      "Epoch: 120, Loss G.: 0.756044864654541\n",
      "Epoch: 130, Loss D.: 0.6969320774078369\n",
      "Epoch: 130, Loss G.: 0.7902374267578125\n",
      "Epoch: 140, Loss D.: 0.6842067837715149\n",
      "Epoch: 140, Loss G.: 0.6900292038917542\n",
      "Epoch: 150, Loss D.: 0.652336061000824\n",
      "Epoch: 150, Loss G.: 0.7632262110710144\n",
      "Epoch: 160, Loss D.: 0.6315798759460449\n",
      "Epoch: 160, Loss G.: 0.9124164581298828\n",
      "Epoch: 170, Loss D.: 0.6362939476966858\n",
      "Epoch: 170, Loss G.: 0.7425699830055237\n",
      "Epoch: 180, Loss D.: 0.6657485365867615\n",
      "Epoch: 180, Loss G.: 0.8601257801055908\n",
      "Epoch: 190, Loss D.: 0.633549690246582\n",
      "Epoch: 190, Loss G.: 0.8542953729629517\n",
      "Epoch: 200, Loss D.: 0.6707990765571594\n",
      "Epoch: 200, Loss G.: 0.8275060653686523\n",
      "Epoch: 210, Loss D.: 0.7174941897392273\n",
      "Epoch: 210, Loss G.: 0.7762402296066284\n",
      "Epoch: 220, Loss D.: 0.7113354206085205\n",
      "Epoch: 220, Loss G.: 0.6439037322998047\n",
      "Epoch: 230, Loss D.: 0.6773353219032288\n",
      "Epoch: 230, Loss G.: 0.7551125288009644\n",
      "Epoch: 240, Loss D.: 0.5948561429977417\n",
      "Epoch: 240, Loss G.: 0.8272783160209656\n",
      "Epoch: 250, Loss D.: 0.6310521960258484\n",
      "Epoch: 250, Loss G.: 0.7187694907188416\n",
      "Epoch: 260, Loss D.: 0.660944938659668\n",
      "Epoch: 260, Loss G.: 0.7584390640258789\n",
      "Epoch: 270, Loss D.: 0.5607531666755676\n",
      "Epoch: 270, Loss G.: 0.9714249968528748\n",
      "Epoch: 280, Loss D.: 0.5812971591949463\n",
      "Epoch: 280, Loss G.: 0.8923859596252441\n",
      "Epoch: 290, Loss D.: 0.5629896521568298\n",
      "Epoch: 290, Loss G.: 0.9733617305755615\n"
     ]
    }
   ],
   "execution_count": 56
  },
  {
   "metadata": {},
   "cell_type": "markdown",
   "source": "# Checking the samples Generated by the GAN",
   "id": "b7a91a076cee812a"
  },
  {
   "metadata": {
    "ExecuteTime": {
     "end_time": "2024-05-09T12:19:04.676693Z",
     "start_time": "2024-05-09T12:19:04.670243Z"
    }
   },
   "cell_type": "code",
   "source": [
    "latent_space_samples = torch.randn(100, 2)\n",
    "generated_samples = generator(latent_space_samples)"
   ],
   "id": "65fe419d7485f12b",
   "outputs": [],
   "execution_count": 67
  },
  {
   "metadata": {
    "ExecuteTime": {
     "end_time": "2024-05-09T12:19:05.566686Z",
     "start_time": "2024-05-09T12:19:05.371587Z"
    }
   },
   "cell_type": "code",
   "source": [
    "generated_samples = generated_samples.detach()\n",
    "plt.plot(generated_samples[:, 0], generated_samples[:, 1], '.')"
   ],
   "id": "c00261527547d2be",
   "outputs": [
    {
     "data": {
      "text/plain": [
       "[<matplotlib.lines.Line2D at 0x2263fc7d050>]"
      ]
     },
     "execution_count": 68,
     "metadata": {},
     "output_type": "execute_result"
    },
    {
     "data": {
      "text/plain": [
       "<Figure size 640x480 with 1 Axes>"
      ],
      "image/png": "[encoded data removed]"
     },
     "metadata": {},
     "output_type": "display_data"
    }
   ],
   "execution_count": 68
  },
  {
   "metadata": {
    "ExecuteTime": {
     "end_time": "2024-05-09T12:17:47.725438Z",
     "start_time": "2024-05-09T12:17:47.718457Z"
    }
   },
   "cell_type": "code",
   "source": "",
   "id": "60937ca844f7522",
   "outputs": [],
   "execution_count": 58
  }
 ],
 "metadata": {
  "kernelspec": {
   "display_name": "Python 3",
   "language": "python",
   "name": "python3"
  },
  "language_info": {
   "codemirror_mode": {
    "name": "ipython",
    "version": 2
   },
   "file_extension": ".py",
   "mimetype": "text/x-python",
   "name": "python",
   "nbconvert_exporter": "python",
   "pygments_lexer": "ipython2",
   "version": "2.7.6"
  }
 },
 "nbformat": 4,
 "nbformat_minor": 5
}
